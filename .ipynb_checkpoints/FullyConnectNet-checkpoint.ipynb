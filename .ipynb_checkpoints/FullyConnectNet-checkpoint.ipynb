{
 "cells": [
  {
   "cell_type": "code",
   "execution_count": 1,
   "metadata": {},
   "outputs": [],
   "source": [
    "from __future__ import print_function\n",
    "import time\n",
    "import numpy as np\n",
    "import matplotlib.pyplot as plt\n",
    "import cv2\n",
    "import os\n",
    "import sys\n",
    "sys.path.append(r\"/Users/miruku/Documents/program/homework/image\")\n",
    "\n",
    "from NN.layers import *\n",
    "from NN.layer_utils import *\n",
    "from NN.fc_net import *\n",
    "from NN.gradient_check import eval_numerical_gradient, eval_numerical_gradient_array\n",
    "from NN.solver import Solver"
   ]
  },
  {
   "cell_type": "markdown",
   "metadata": {},
   "source": [
    "# Affine layer: foward"
   ]
  },
  {
   "cell_type": "code",
   "execution_count": 2,
   "metadata": {},
   "outputs": [],
   "source": [
    "%matplotlib inline\n",
    "plt.rcParams['figure.figsize'] = (10.0, 8.0) # set default size of plots\n",
    "plt.rcParams['image.interpolation'] = 'nearest'\n",
    "plt.rcParams['image.cmap'] = 'gray'"
   ]
  },
  {
   "cell_type": "code",
   "execution_count": 3,
   "metadata": {},
   "outputs": [],
   "source": [
    "%load_ext autoreload\n",
    "%autoreload 2"
   ]
  },
  {
   "cell_type": "code",
   "execution_count": 4,
   "metadata": {},
   "outputs": [],
   "source": [
    "def rel_error(x, y):\n",
    "  \"\"\" returns relative error \"\"\"\n",
    "  return np.max(np.abs(x - y) / (np.maximum(1e-8, np.abs(x) + np.abs(y))))"
   ]
  },
  {
   "cell_type": "markdown",
   "metadata": {},
   "source": [
    "## input\n",
    "    x:  A numpy array containing input data, of shape (N, d_1, ..., d_k)\n",
    "    w:  A numpy array of weights, of shape (D, M)\n",
    "    b:  A numpy array of biases, of shape (M,)\n",
    "## return\n",
    "    out: (N,M)\n",
    "    cache:(x,w,b)"
   ]
  },
  {
   "cell_type": "code",
   "execution_count": 5,
   "metadata": {},
   "outputs": [
    {
     "name": "stdout",
     "output_type": "stream",
     "text": [
      "number0: 5923\n",
      "number1: 6742\n",
      "number2: 5958\n",
      "number3: 6131\n",
      "number4: 5842\n",
      "number5: 5421\n",
      "number6: 5918\n",
      "number7: 6265\n",
      "number8: 5851\n",
      "number9: 5949\n"
     ]
    }
   ],
   "source": [
    "# load image from files\n",
    "\n",
    "directory_name = 'train_img'\n",
    "X = []\n",
    "Y = []\n",
    "a = 0\n",
    "for i in range(0,10):\n",
    "    a = 0\n",
    "    for filename in os.listdir('./'+directory_name+'/'+str(i)):\n",
    "        img = cv2.imread('./'+directory_name+'/'+str(i)+'/'+filename)\n",
    "        X.append(img)\n",
    "        Y.append(i)\n",
    "        a = a + 1\n",
    "    print(\"number\"+str(i)+\": \"+str(a))"
   ]
  },
  {
   "cell_type": "code",
   "execution_count": 6,
   "metadata": {},
   "outputs": [
    {
     "name": "stdout",
     "output_type": "stream",
     "text": [
      "(60000, 28, 28, 3)\n",
      "(60000,)\n"
     ]
    }
   ],
   "source": [
    "X = np.array(X)\n",
    "Y = np.array(Y)\n",
    "print(X.shape)\n",
    "print(Y.shape)\n"
   ]
  },
  {
   "cell_type": "code",
   "execution_count": 7,
   "metadata": {},
   "outputs": [],
   "source": [
    "def plot_image(image):\n",
    "    fig = plt.gcf() # set size of pic\n",
    "    fig.set_size_inches(2, 2)\n",
    "    plt.imshow(image, cmap ='binary')\n",
    "    plt.show()"
   ]
  },
  {
   "cell_type": "code",
   "execution_count": 8,
   "metadata": {},
   "outputs": [
    {
     "data": {
      "image/png": "[encoded data removed]",
      "text/plain": [
       "<Figure size 144x144 with 1 Axes>"
      ]
     },
     "metadata": {
      "needs_background": "light"
     },
     "output_type": "display_data"
    },
    {
     "name": "stdout",
     "output_type": "stream",
     "text": [
      "0\n"
     ]
    }
   ],
   "source": [
    "plot_image(X[0])\n",
    "print(Y[0])"
   ]
  },
  {
   "cell_type": "code",
   "execution_count": 9,
   "metadata": {},
   "outputs": [],
   "source": [
    "def image_augmentation(image):\n",
    "    \n",
    "    x_offset = np.random.randint(-4,4)\n",
    "    y_offset = np.random.randint(-4,4)\n",
    "    rows,cols,_ = image.shape\n",
    "    M = np.float32([[1,0,x_offset],[0,1,y_offset]])\n",
    "    aug_image = cv2.warpAffine(image,M,(cols,rows))\n",
    "    return aug_image"
   ]
  },
  {
   "cell_type": "code",
   "execution_count": 10,
   "metadata": {},
   "outputs": [],
   "source": [
    "#data augmentation\n",
    "X_aug = np.zeros(X.shape)\n",
    "for i in range(X.shape[0]):\n",
    "    X_aug[i] = image_augmentation(X[i])\n",
    "    \n"
   ]
  },
  {
   "cell_type": "code",
   "execution_count": 11,
   "metadata": {},
   "outputs": [
    {
     "name": "stdout",
     "output_type": "stream",
     "text": [
      "int32\n"
     ]
    }
   ],
   "source": [
    "X_aug = X_aug.astype(np.int32)\n",
    "print(X_aug.dtype)"
   ]
  },
  {
   "cell_type": "code",
   "execution_count": 12,
   "metadata": {},
   "outputs": [],
   "source": [
    "def plot_image_labels_prediction(images, labels, prediction, idx, num=10):\n",
    "    fig = plt.gcf()\n",
    "    fig.set_size_inches(12,14)\n",
    "    if num > 25:\n",
    "        num = 25\n",
    "    for i in range (0, num):\n",
    "        ax = plt.subplot(5,5, 1+i) # draw sub pic by 5 rows and 5 columns\n",
    "        ax.imshow(images[idx], cmap='binary')\n",
    "        title=\"label=\" + str(labels[idx])\n",
    "        if len(prediction) > 0: # if have prediciton\n",
    "            title+=\", predict=\"+ str(prediction[idx])\n",
    "        ax.set_title(title, fontsize = 10)\n",
    "        ax.set_xticks([])\n",
    "        ax.set_yticks([])\n",
    "        idx+=1\n",
    "    plt.show()"
   ]
  },
  {
   "cell_type": "code",
   "execution_count": 13,
   "metadata": {},
   "outputs": [
    {
     "data": {
      "image/png": "[encoded data removed]",
      "text/plain": [
       "<Figure size 864x1008 with 10 Axes>"
      ]
     },
     "metadata": {},
     "output_type": "display_data"
    }
   ],
   "source": [
    "plot_image_labels_prediction(X_aug,Y,[],0,10)"
   ]
  },
  {
   "cell_type": "code",
   "execution_count": 14,
   "metadata": {},
   "outputs": [],
   "source": [
    "##shuffle 2 array in one unison"
   ]
  },
  {
   "cell_type": "code",
   "execution_count": 15,
   "metadata": {},
   "outputs": [
    {
     "data": {
      "image/png": "[encoded data removed]",
      "text/plain": [
       "<Figure size 864x1008 with 10 Axes>"
      ]
     },
     "metadata": {},
     "output_type": "display_data"
    }
   ],
   "source": [
    "rng_state = np.random.get_state()\n",
    "np.random.shuffle(X_aug)\n",
    "np.random.set_state(rng_state)\n",
    "np.random.shuffle(Y)\n",
    "plot_image_labels_prediction(X_aug,Y,[],0,10)"
   ]
  },
  {
   "cell_type": "code",
   "execution_count": 16,
   "metadata": {},
   "outputs": [
    {
     "name": "stdout",
     "output_type": "stream",
     "text": [
      "Testing affine_forward function:\n",
      "difference:  9.769847728806635e-10\n"
     ]
    }
   ],
   "source": [
    "# Test the affine_forward function\n",
    "num_inputs = 2\n",
    "input_shape = (4, 5, 6)\n",
    "output_dim = 3\n",
    "\n",
    "input_size = num_inputs * np.prod(input_shape)\n",
    "weight_size = output_dim * np.prod(input_shape)\n",
    "\n",
    "x = np.linspace(-0.1, 0.5, num=input_size).reshape(num_inputs, *input_shape)\n",
    "w = np.linspace(-0.2, 0.3, num=weight_size).reshape(np.prod(input_shape), output_dim)\n",
    "b = np.linspace(-0.3, 0.1, num=output_dim)\n",
    "\n",
    "\n",
    "out, _ = affine_forward(x, w, b)\n",
    "correct_out = np.array([[ 1.49834967,  1.70660132,  1.91485297],\n",
    "                        [ 3.25553199,  3.5141327,   3.77273342]])\n",
    "\n",
    "# Compare your output with ours. The error should be around e-9 or less.\n",
    "print('Testing affine_forward function:')\n",
    "print('difference: ', rel_error(out, correct_out))"
   ]
  },
  {
   "cell_type": "code",
   "execution_count": 17,
   "metadata": {},
   "outputs": [
    {
     "name": "stdout",
     "output_type": "stream",
     "text": [
      "Testing relu_backward function:\n",
      "dx error:  3.2756349136310288e-12\n"
     ]
    }
   ],
   "source": [
    "# Test the relu_forward function\n",
    "np.random.seed(231)\n",
    "x = np.random.randn(10, 10)\n",
    "dout = np.random.randn(*x.shape)\n",
    "\n",
    "dx_num = eval_numerical_gradient_array(lambda x: relu_forward(x)[0], x, dout)\n",
    "\n",
    "_, cache = relu_forward(x)\n",
    "dx = relu_backward(dout, cache)\n",
    "\n",
    "# The error should be on the order of e-12\n",
    "print('Testing relu_backward function:')\n",
    "print('dx error: ', rel_error(dx_num, dx))"
   ]
  },
  {
   "cell_type": "code",
   "execution_count": 18,
   "metadata": {},
   "outputs": [
    {
     "name": "stdout",
     "output_type": "stream",
     "text": [
      "Testing affine_relu_forward and affine_relu_backward:\n",
      "dx error:  6.750562121603446e-11\n",
      "dw error:  8.162015570444288e-11\n",
      "db error:  7.826724021458994e-12\n"
     ]
    }
   ],
   "source": [
    "# Test for sandwich layers\n",
    "np.random.seed(231)\n",
    "x = np.random.randn(2, 3, 4)\n",
    "w = np.random.randn(12, 10)\n",
    "b = np.random.randn(10)\n",
    "dout = np.random.randn(2, 10)\n",
    "\n",
    "out, cache = affine_relu_forward(x, w, b)\n",
    "dx, dw, db = affine_relu_backward(dout, cache)\n",
    "\n",
    "dx_num = eval_numerical_gradient_array(lambda x: affine_relu_forward(x, w, b)[0], x, dout)\n",
    "dw_num = eval_numerical_gradient_array(lambda w: affine_relu_forward(x, w, b)[0], w, dout)\n",
    "db_num = eval_numerical_gradient_array(lambda b: affine_relu_forward(x, w, b)[0], b, dout)\n",
    "\n",
    "# Relative error should be around e-10 or less\n",
    "print('Testing affine_relu_forward and affine_relu_backward:')\n",
    "print('dx error: ', rel_error(dx_num, dx))\n",
    "print('dw error: ', rel_error(dw_num, dw))\n",
    "print('db error: ', rel_error(db_num, db))"
   ]
  },
  {
   "cell_type": "code",
   "execution_count": 19,
   "metadata": {},
   "outputs": [
    {
     "name": "stdout",
     "output_type": "stream",
     "text": [
      "\n",
      "Testing softmax_loss:\n",
      "loss:  2.302545844500738\n",
      "dx error:  9.384673161989355e-09\n"
     ]
    }
   ],
   "source": [
    "#Test Softmax loss function\n",
    "np.random.seed(231)\n",
    "num_classes, num_inputs = 10, 50\n",
    "x = 0.001 * np.random.randn(num_inputs, num_classes)\n",
    "y = np.random.randint(num_classes, size=num_inputs)\n",
    "\n",
    "dx_num = eval_numerical_gradient(lambda x: softmax_loss(x, y)[0], x, verbose=False)\n",
    "loss, dx = softmax_loss(x, y)\n",
    "\n",
    "# Test softmax_loss function. Loss should be close to 2.3 and dx error should be around e-8\n",
    "print('\\nTesting softmax_loss:')\n",
    "print('loss: ', loss)\n",
    "print('dx error: ', rel_error(dx_num, dx))"
   ]
  },
  {
   "cell_type": "code",
   "execution_count": 20,
   "metadata": {},
   "outputs": [
    {
     "name": "stdout",
     "output_type": "stream",
     "text": [
      "(Iteration 1 / 4800) loss: 2.774943\n",
      "(Epoch 0 / 10) train acc: 0.107000; val_acc: 0.104500\n",
      "(Iteration 101 / 4800) loss: 0.792561\n",
      "(Iteration 201 / 4800) loss: 0.417244\n",
      "(Iteration 301 / 4800) loss: 0.344393\n",
      "(Iteration 401 / 4800) loss: 0.346699\n",
      "(Epoch 1 / 10) train acc: 0.911000; val_acc: 0.891500\n",
      "(Iteration 501 / 4800) loss: 0.246113\n",
      "(Iteration 601 / 4800) loss: 0.344560\n",
      "(Iteration 701 / 4800) loss: 0.182275\n",
      "(Iteration 801 / 4800) loss: 0.205436\n",
      "(Iteration 901 / 4800) loss: 0.228167\n",
      "(Epoch 2 / 10) train acc: 0.935000; val_acc: 0.912500\n",
      "(Iteration 1001 / 4800) loss: 0.162640\n",
      "(Iteration 1101 / 4800) loss: 0.111611\n",
      "(Iteration 1201 / 4800) loss: 0.114541\n",
      "(Iteration 1301 / 4800) loss: 0.190945\n",
      "(Iteration 1401 / 4800) loss: 0.093635\n",
      "(Epoch 3 / 10) train acc: 0.947000; val_acc: 0.921500\n",
      "(Iteration 1501 / 4800) loss: 0.163936\n",
      "(Iteration 1601 / 4800) loss: 0.052087\n",
      "(Iteration 1701 / 4800) loss: 0.142764\n",
      "(Iteration 1801 / 4800) loss: 0.098867\n",
      "(Iteration 1901 / 4800) loss: 0.060690\n",
      "(Epoch 4 / 10) train acc: 0.968000; val_acc: 0.924500\n",
      "(Iteration 2001 / 4800) loss: 0.073345\n",
      "(Iteration 2101 / 4800) loss: 0.060657\n",
      "(Iteration 2201 / 4800) loss: 0.088245\n",
      "(Iteration 2301 / 4800) loss: 0.049150\n",
      "(Epoch 5 / 10) train acc: 0.970000; val_acc: 0.930500\n",
      "(Iteration 2401 / 4800) loss: 0.081915\n",
      "(Iteration 2501 / 4800) loss: 0.089806\n",
      "(Iteration 2601 / 4800) loss: 0.070103\n",
      "(Iteration 2701 / 4800) loss: 0.043097\n",
      "(Iteration 2801 / 4800) loss: 0.054543\n",
      "(Epoch 6 / 10) train acc: 0.986000; val_acc: 0.937500\n",
      "(Iteration 2901 / 4800) loss: 0.070494\n",
      "(Iteration 3001 / 4800) loss: 0.065575\n",
      "(Iteration 3101 / 4800) loss: 0.121807\n",
      "(Iteration 3201 / 4800) loss: 0.043212\n",
      "(Iteration 3301 / 4800) loss: 0.080420\n",
      "(Epoch 7 / 10) train acc: 0.994000; val_acc: 0.933500\n",
      "(Iteration 3401 / 4800) loss: 0.034802\n",
      "(Iteration 3501 / 4800) loss: 0.057541\n",
      "(Iteration 3601 / 4800) loss: 0.099256\n",
      "(Iteration 3701 / 4800) loss: 0.079177\n",
      "(Iteration 3801 / 4800) loss: 0.026787\n",
      "(Epoch 8 / 10) train acc: 0.993000; val_acc: 0.935000\n",
      "(Iteration 3901 / 4800) loss: 0.033747\n",
      "(Iteration 4001 / 4800) loss: 0.041087\n",
      "(Iteration 4101 / 4800) loss: 0.037808\n",
      "(Iteration 4201 / 4800) loss: 0.055932\n",
      "(Iteration 4301 / 4800) loss: 0.107811\n",
      "(Epoch 9 / 10) train acc: 0.989000; val_acc: 0.937500\n",
      "(Iteration 4401 / 4800) loss: 0.017009\n",
      "(Iteration 4501 / 4800) loss: 0.046685\n",
      "(Iteration 4601 / 4800) loss: 0.034171\n",
      "(Iteration 4701 / 4800) loss: 0.108102\n",
      "(Epoch 10 / 10) train acc: 0.990000; val_acc: 0.936500\n"
     ]
    }
   ],
   "source": [
    "weight_scale = 1e-1\n",
    "learning_rate = 1e-3\n",
    "\n",
    "validation_number = 2000\n",
    "seperate_value = 50000-validation_number\n",
    "# mask = np.random.choice(X.shape,validation_number)\n",
    "data = {\n",
    "    'X_train': X[0:seperate_value],\n",
    "    'y_train': Y[0:seperate_value],\n",
    "    'X_val': X[seperate_value:50000],\n",
    "    'y_val': Y[seperate_value:50000],\n",
    "    'X_test': X[50000:60000],\n",
    "    'Y_test': Y[50000:60000]\n",
    "}\n",
    "\n",
    "data_aug = {\n",
    "    'X_train': X_aug[0:seperate_value],\n",
    "    'y_train': Y[0:seperate_value],\n",
    "    'X_val': X_aug[seperate_value:50000],\n",
    "    'y_val': Y[seperate_value:50000],\n",
    "    'X_test': X_aug[50000:60000],\n",
    "    'Y_test': Y[50000:60000]\n",
    "}\n",
    "\n",
    "\n",
    "model = FullyConnectedNet([150,150],\n",
    "                        weight_scale=weight_scale,\n",
    "                        dtype=np.float64,\n",
    "                        normalization = 'batchnorm',\n",
    "                         )\n",
    "solver = Solver(model,data_aug,\n",
    "                update_rule='adam',\n",
    "                optim_config={\n",
    "                    'learning_rate': 1e-3,\n",
    "                },\n",
    "                lr_decay=0.95,\n",
    "                num_epochs=10,\n",
    "                batch_size=100,\n",
    "                print_every=100,\n",
    "                verbose=True)\n",
    "solver.train()"
   ]
  },
  {
   "cell_type": "code",
   "execution_count": 21,
   "metadata": {},
   "outputs": [],
   "source": [
    "y_test_pred = np.argmax(model.loss(data['X_test']), axis=1)\n",
    "y_val_pred = np.argmax(model.loss(data['X_val']), axis=1)"
   ]
  },
  {
   "cell_type": "code",
   "execution_count": 22,
   "metadata": {},
   "outputs": [
    {
     "data": {
      "text/plain": [
       "array([5, 8, 8, ..., 9, 9, 4])"
      ]
     },
     "execution_count": 22,
     "metadata": {},
     "output_type": "execute_result"
    }
   ],
   "source": [
    "y_test_pred"
   ]
  },
  {
   "cell_type": "code",
   "execution_count": 23,
   "metadata": {
    "scrolled": true
   },
   "outputs": [
    {
     "data": {
      "image/png": "[encoded data removed]",
      "text/plain": [
       "<Figure size 864x1008 with 10 Axes>"
      ]
     },
     "metadata": {},
     "output_type": "display_data"
    }
   ],
   "source": [
    "plot_image_labels_prediction(data['X_test'],data['Y_test'],y_test_pred,0,10)"
   ]
  },
  {
   "cell_type": "code",
   "execution_count": 26,
   "metadata": {},
   "outputs": [
    {
     "name": "stdout",
     "output_type": "stream",
     "text": [
      "0.0989\n"
     ]
    }
   ],
   "source": [
    "print(np.mean(data['Y_test']==y_test_pred))"
   ]
  },
  {
   "cell_type": "code",
   "execution_count": 27,
   "metadata": {},
   "outputs": [],
   "source": [
    "#load search img\n",
    "\n",
    "search_img = cv2.imread('./'+'search_image.png')\n",
    "search_img = np.array(search_img)"
   ]
  },
  {
   "cell_type": "code",
   "execution_count": 28,
   "metadata": {},
   "outputs": [
    {
     "data": {
      "text/plain": [
       "(480, 640, 3)"
      ]
     },
     "execution_count": 28,
     "metadata": {},
     "output_type": "execute_result"
    }
   ],
   "source": [
    "search_img.shape"
   ]
  },
  {
   "cell_type": "code",
   "execution_count": 29,
   "metadata": {},
   "outputs": [
    {
     "data": {
      "text/plain": [
       "(28, 28, 3)"
      ]
     },
     "execution_count": 29,
     "metadata": {},
     "output_type": "execute_result"
    }
   ],
   "source": [
    "#split search image into 28*28*3 images\n",
    "search_img[0:28,0:28].shape"
   ]
  },
  {
   "cell_type": "code",
   "execution_count": 30,
   "metadata": {},
   "outputs": [
    {
     "name": "stdout",
     "output_type": "stream",
     "text": [
      "(178, 2352)\n"
     ]
    }
   ],
   "source": [
    "search_img = cv2.imread('/Users/miruku/Documents/program/homework/image/NN/'+'search_image.png')\n",
    "search_img = np.array(search_img)\n",
    "boundary = 3\n",
    "is_slice_label = False\n",
    "search_img_slice = []\n",
    "search_img_coordinate = []\n",
    "search_img_slice_part = []\n",
    "search_img_mean_pixel = []\n",
    "\n",
    "part_num = 0\n",
    "search_img_slice_part.append([])\n",
    "\n",
    "for i in range(0,640-28,2):\n",
    "    for j in range(0,480-28,2):\n",
    "        a = search_img[j:28+j,i:28+i]\n",
    "        if np.mean(a) > 10:\n",
    "            a_first_row = a[:,0:boundary,:]\n",
    "            a_last_row = a[:,-boundary:,:]\n",
    "            a_first_column = a[0:boundary,:,:]\n",
    "            a_last_column = a[-boundary:,:,:]\n",
    "            a_row_mean = np.mean(a_first_row == a_last_row)\n",
    "            a_column_mean = np.mean(a_first_column == a_last_column)\n",
    "#             print(a_first_column[0])\n",
    "#             print(a_last_column)\n",
    "            if (a_row_mean == 1 and a_column_mean == 1):\n",
    "                is_slice_label = True\n",
    "                search_img_slice.append(search_img[j:28+j,i:28+i])\n",
    "                search_img_coordinate.append(np.array([i,j]))\n",
    "                search_img_slice_part[part_num].append(np.array(search_img[j:28+j,i:28+i]))\n",
    "                search_img_mean_pixel.append(np.mean(a))\n",
    "            else:\n",
    "                if is_slice_label == True:\n",
    "                    part_num += 1\n",
    "                    is_slice_label = False\n",
    "                    search_img_slice_part.append([])\n",
    "        else:\n",
    "            if is_slice_label == True:\n",
    "                part_num += 1\n",
    "                is_slice_label = False\n",
    "                search_img_slice_part.append([])\n",
    "            \n",
    "search_img_coordinate[0]\n",
    "np_search_slice = np.array(search_img_slice)\n",
    "N = np_search_slice.shape[0]\n",
    "D = np.prod(np_search_slice.shape[1:])\n",
    "np_search_slice_reshape = np_search_slice.reshape(N,D)\n",
    "print(np_search_slice_reshape.shape)\n",
    "search_mean = np.mean(np.array(np_search_slice_reshape),axis=1)\n"
   ]
  },
  {
   "cell_type": "code",
   "execution_count": 31,
   "metadata": {},
   "outputs": [],
   "source": [
    "# search_img_slice = []\n",
    "# search_img_coordinate = []\n",
    "# for i in range(0,640-28):\n",
    "#     for j in range(0,480-28):\n",
    "#         if np.mean(search_img[j:28+j,i:28+i]) > 30:\n",
    "#             search_img_slice.append(search_img[j:28+j,i:28+i])\n",
    "#             search_img_coordinate.append(np.array([i,j]))"
   ]
  },
  {
   "cell_type": "code",
   "execution_count": 32,
   "metadata": {},
   "outputs": [
    {
     "name": "stdout",
     "output_type": "stream",
     "text": [
      "(178, 28, 28, 3)\n",
      "(178, 2)\n"
     ]
    }
   ],
   "source": [
    "print(np.array(search_img_slice).shape)\n",
    "print(np.array(search_img_coordinate).shape)"
   ]
  },
  {
   "cell_type": "code",
   "execution_count": 33,
   "metadata": {},
   "outputs": [],
   "source": [
    "# search_img_coordinate[0]\n",
    "# np_search_slice = np.array(search_img_slice)\n",
    "# N = np_search_slice.shape[0]\n",
    "# D = np.prod(np_search_slice.shape[1:])\n",
    "# np_search_slice_reshape = np_search_slice.reshape(N,D)\n",
    "# print(np_search_slice_reshape.shape)\n",
    "# search_mean = np.mean(np.array(np_search_slice_reshape),axis=1)\n"
   ]
  },
  {
   "cell_type": "code",
   "execution_count": 34,
   "metadata": {},
   "outputs": [],
   "source": [
    "def show_mean_histogram(data):\n",
    "    plt.plot(search_mean)\n",
    "    plt.ylabel('mean')\n",
    "    plt.xlabel('number')\n",
    "    plt.show()"
   ]
  },
  {
   "cell_type": "code",
   "execution_count": 35,
   "metadata": {},
   "outputs": [
    {
     "data": {
      "image/png": "[encoded data removed]",
      "text/plain": [
       "<Figure size 720x576 with 1 Axes>"
      ]
     },
     "metadata": {
      "needs_background": "light"
     },
     "output_type": "display_data"
    }
   ],
   "source": [
    "show_mean_histogram(search_mean)"
   ]
  },
  {
   "cell_type": "code",
   "execution_count": 36,
   "metadata": {},
   "outputs": [],
   "source": [
    "result = model.loss(np.array(search_img_slice))\n",
    "# shifted_logits = result - np.max(result, axis=1, keepdims=True)\n",
    "# Z = np.sum(np.exp(shifted_logits), axis=1, keepdims=True)\n",
    "# log_probs = shifted_logits - np.log(Z)\n",
    "# probs = np.exp(log_probs)\n",
    "search_val = "
   ]
  },
  {
   "cell_type": "code",
   "execution_count": 37,
   "metadata": {},
   "outputs": [
    {
     "data": {
      "image/png": "[encoded data removed]",
      "text/plain": [
       "<Figure size 144x144 with 1 Axes>"
      ]
     },
     "metadata": {
      "needs_background": "light"
     },
     "output_type": "display_data"
    }
   ],
   "source": [
    "\n",
    "plot_image(np_search_slice[1])"
   ]
  },
  {
   "cell_type": "code",
   "execution_count": 38,
   "metadata": {},
   "outputs": [
    {
     "data": {
      "text/plain": [
       "array([[ -0.59516355,  -2.43316615,   0.10569434, ..., -13.23275841,\n",
       "        -13.25589781, -12.616311  ],\n",
       "       [ -0.76540142,  -2.3015986 ,   4.04493621, ..., -11.97061209,\n",
       "        -12.71507645, -12.08765901],\n",
       "       [  0.65000944,  -3.72688134,   3.2616561 , ..., -14.15820986,\n",
       "         -9.4983432 ,  -8.54962805],\n",
       "       ...,\n",
       "       [ -1.94784377,  -2.75887718,   0.66047886, ...,  -9.03225301,\n",
       "          1.72175506,  -8.97637367],\n",
       "       [  0.11547385,  -4.39434967,  -3.28326198, ..., -10.43929057,\n",
       "          0.14158472,  -6.70344215],\n",
       "       [ -0.74936302,  -3.21523002,  -0.58863028, ..., -10.78551846,\n",
       "         -0.28073418,  -7.32785679]])"
      ]
     },
     "execution_count": 38,
     "metadata": {},
     "output_type": "execute_result"
    }
   ],
   "source": [
    "result"
   ]
  },
  {
   "cell_type": "code",
   "execution_count": 61,
   "metadata": {},
   "outputs": [
    {
     "data": {
      "image/png": "[encoded data removed]",
      "text/plain": [
       "<Figure size 864x1008 with 25 Axes>"
      ]
     },
     "metadata": {},
     "output_type": "display_data"
    }
   ],
   "source": [
    "plot_image_labels_prediction(search_img_slice,search_val,[],70,25)"
   ]
  },
  {
   "cell_type": "code",
   "execution_count": 131,
   "metadata": {},
   "outputs": [],
   "source": [
    "def sort_img_by_pixel(img_mean,coord,img,result):\n",
    "    img_mean_np = np.array(img_mean)\n",
    "    coord_np = np.array(coord)\n",
    "    sorted_result = np.array(result)\n",
    "    img_np = np.array(img)\n",
    "    \n",
    "    print(result.shape)\n",
    "    \n",
    "    sorted_indices = np.argsort(img_mean_np, axis=0)\n",
    "    sorted_mean = img_mean_np[sorted_indices]\n",
    "    sorted_img = img_np[sorted_indices]\n",
    "    sorted_result = sorted_result[sorted_indices]\n",
    "    sorted_coordnate = coord_np[sorted_indices]\n",
    "    return sorted_mean,sorted_img,sorted_coordnate,sorted_result"
   ]
  },
  {
   "cell_type": "code",
   "execution_count": 132,
   "metadata": {},
   "outputs": [
    {
     "name": "stdout",
     "output_type": "stream",
     "text": [
      "(178, 10)\n"
     ]
    }
   ],
   "source": [
    "sorted_mean,sorted_img,sorted_coord,sorted_result = sort_img_by_pixel(search_mean,search_img_coordinate,search_img_slice,result)\n"
   ]
  },
  {
   "cell_type": "code",
   "execution_count": 186,
   "metadata": {},
   "outputs": [
    {
     "data": {
      "image/png": "[encoded data removed]",
      "text/plain": [
       "<Figure size 864x1008 with 15 Axes>"
      ]
     },
     "metadata": {},
     "output_type": "display_data"
    }
   ],
   "source": [
    "\n",
    "plot_image_labels_prediction(sorted_img,np.argmax(sorted_result,axis=1),[],0,15)"
   ]
  },
  {
   "cell_type": "code",
   "execution_count": 134,
   "metadata": {},
   "outputs": [],
   "source": [
    "def softmax(x):\n",
    "    shifted_logits = x - np.max(x, axis=1, keepdims=True)\n",
    "    Z = np.sum(np.exp(shifted_logits), axis=1, keepdims=True)\n",
    "    log_probs = shifted_logits - np.log(Z)\n",
    "    probs = np.exp(log_probs)\n",
    "    return probs"
   ]
  },
  {
   "cell_type": "code",
   "execution_count": 135,
   "metadata": {},
   "outputs": [],
   "source": [
    "prob = softmax(sorted_result)\n",
    "prob = np.around(prob,3)"
   ]
  },
  {
   "cell_type": "code",
   "execution_count": 136,
   "metadata": {},
   "outputs": [
    {
     "data": {
      "text/plain": [
       "array([0.   , 0.   , 0.001, 0.008, 0.   , 0.002, 0.001, 0.   , 0.988,\n",
       "       0.   ])"
      ]
     },
     "execution_count": 136,
     "metadata": {},
     "output_type": "execute_result"
    }
   ],
   "source": [
    "prob[54]"
   ]
  },
  {
   "cell_type": "code",
   "execution_count": 137,
   "metadata": {},
   "outputs": [
    {
     "data": {
      "text/plain": [
       "array([  4, 146])"
      ]
     },
     "execution_count": 137,
     "metadata": {},
     "output_type": "execute_result"
    }
   ],
   "source": [
    "search_img_coordinate[2]"
   ]
  },
  {
   "cell_type": "code",
   "execution_count": 156,
   "metadata": {},
   "outputs": [],
   "source": [
    "def classify_sorted_number(img):\n",
    "    img_length = len(img)\n",
    "    img_by_class = []\n",
    "    img_by_class.append([])\n",
    "    temp = img[0]\n",
    "    class_num = 0\n",
    "    for i in range(img_length):\n",
    "        if temp == img[i]:\n",
    "            img_by_class[class_num].append(temp)\n",
    "        else:\n",
    "            temp = img[i]\n",
    "            class_num += 1\n",
    "            img_by_class.append([])\n",
    "            img_by_class[class_num].append(temp)\n",
    "    return img_by_class"
   ]
  },
  {
   "cell_type": "code",
   "execution_count": 171,
   "metadata": {},
   "outputs": [
    {
     "data": {
      "text/plain": [
       "[[13.610969387755102,\n",
       "  13.610969387755102,\n",
       "  13.610969387755102,\n",
       "  13.610969387755102,\n",
       "  13.610969387755102,\n",
       "  13.610969387755102,\n",
       "  13.610969387755102,\n",
       "  13.610969387755102,\n",
       "  13.610969387755102],\n",
       " [17.75127551020408,\n",
       "  17.75127551020408,\n",
       "  17.75127551020408,\n",
       "  17.75127551020408,\n",
       "  17.75127551020408,\n",
       "  17.75127551020408,\n",
       "  17.75127551020408,\n",
       "  17.75127551020408,\n",
       "  17.75127551020408,\n",
       "  17.75127551020408,\n",
       "  17.75127551020408,\n",
       "  17.75127551020408,\n",
       "  17.75127551020408,\n",
       "  17.75127551020408],\n",
       " [17.904336734693878,\n",
       "  17.904336734693878,\n",
       "  17.904336734693878,\n",
       "  17.904336734693878,\n",
       "  17.904336734693878,\n",
       "  17.904336734693878,\n",
       "  17.904336734693878,\n",
       "  17.904336734693878],\n",
       " [18.049744897959183,\n",
       "  18.049744897959183,\n",
       "  18.049744897959183,\n",
       "  18.049744897959183,\n",
       "  18.049744897959183],\n",
       " [18.353316326530614,\n",
       "  18.353316326530614,\n",
       "  18.353316326530614,\n",
       "  18.353316326530614,\n",
       "  18.353316326530614,\n",
       "  18.353316326530614],\n",
       " [19.8890306122449,\n",
       "  19.8890306122449,\n",
       "  19.8890306122449,\n",
       "  19.8890306122449,\n",
       "  19.8890306122449,\n",
       "  19.8890306122449,\n",
       "  19.8890306122449,\n",
       "  19.8890306122449],\n",
       " [24.911989795918366,\n",
       "  24.911989795918366,\n",
       "  24.911989795918366,\n",
       "  24.911989795918366,\n",
       "  24.911989795918366,\n",
       "  24.911989795918366,\n",
       "  24.911989795918366,\n",
       "  24.911989795918366],\n",
       " [25.682397959183675, 25.682397959183675, 25.682397959183675],\n",
       " [25.741071428571427,\n",
       "  25.741071428571427,\n",
       "  25.741071428571427,\n",
       "  25.741071428571427,\n",
       "  25.741071428571427,\n",
       "  25.741071428571427,\n",
       "  25.741071428571427,\n",
       "  25.741071428571427,\n",
       "  25.741071428571427,\n",
       "  25.741071428571427],\n",
       " [26.857142857142858,\n",
       "  26.857142857142858,\n",
       "  26.857142857142858,\n",
       "  26.857142857142858,\n",
       "  26.857142857142858,\n",
       "  26.857142857142858,\n",
       "  26.857142857142858,\n",
       "  26.857142857142858,\n",
       "  26.857142857142858,\n",
       "  26.857142857142858,\n",
       "  26.857142857142858,\n",
       "  26.857142857142858],\n",
       " [28.228316326530614,\n",
       "  28.228316326530614,\n",
       "  28.228316326530614,\n",
       "  28.228316326530614,\n",
       "  28.228316326530614,\n",
       "  28.228316326530614,\n",
       "  28.228316326530614,\n",
       "  28.228316326530614,\n",
       "  28.228316326530614,\n",
       "  28.228316326530614,\n",
       "  28.228316326530614,\n",
       "  28.228316326530614],\n",
       " [29.177295918367346, 29.177295918367346, 29.177295918367346],\n",
       " [31.503826530612244,\n",
       "  31.503826530612244,\n",
       "  31.503826530612244,\n",
       "  31.503826530612244,\n",
       "  31.503826530612244,\n",
       "  31.503826530612244,\n",
       "  31.503826530612244,\n",
       "  31.503826530612244],\n",
       " [32.05102040816327,\n",
       "  32.05102040816327,\n",
       "  32.05102040816327,\n",
       "  32.05102040816327,\n",
       "  32.05102040816327,\n",
       "  32.05102040816327],\n",
       " [34.015306122448976,\n",
       "  34.015306122448976,\n",
       "  34.015306122448976,\n",
       "  34.015306122448976],\n",
       " [35.35076530612245, 35.35076530612245, 35.35076530612245, 35.35076530612245],\n",
       " [35.90561224489796, 35.90561224489796, 35.90561224489796, 35.90561224489796],\n",
       " [37.24234693877551, 37.24234693877551],\n",
       " [37.839285714285715, 37.839285714285715, 37.839285714285715],\n",
       " [38.014030612244895,\n",
       "  38.014030612244895,\n",
       "  38.014030612244895,\n",
       "  38.014030612244895,\n",
       "  38.014030612244895,\n",
       "  38.014030612244895,\n",
       "  38.014030612244895,\n",
       "  38.014030612244895],\n",
       " [38.30612244897959, 38.30612244897959],\n",
       " [38.49362244897959,\n",
       "  38.49362244897959,\n",
       "  38.49362244897959,\n",
       "  38.49362244897959,\n",
       "  38.49362244897959,\n",
       "  38.49362244897959,\n",
       "  38.49362244897959,\n",
       "  38.49362244897959],\n",
       " [38.880102040816325, 38.880102040816325],\n",
       " [41.99744897959184, 41.99744897959184, 41.99744897959184, 41.99744897959184],\n",
       " [44.28954081632653,\n",
       "  44.28954081632653,\n",
       "  44.28954081632653,\n",
       "  44.28954081632653,\n",
       "  44.28954081632653,\n",
       "  44.28954081632653,\n",
       "  44.28954081632653,\n",
       "  44.28954081632653,\n",
       "  44.28954081632653,\n",
       "  44.28954081632653],\n",
       " [45.82270408163265, 45.82270408163265],\n",
       " [45.875, 45.875, 45.875],\n",
       " [49.10586734693877, 49.10586734693877],\n",
       " [50.10331632653061,\n",
       "  50.10331632653061,\n",
       "  50.10331632653061,\n",
       "  50.10331632653061,\n",
       "  50.10331632653061,\n",
       "  50.10331632653061],\n",
       " [51.95790816326531, 51.95790816326531]]"
      ]
     },
     "execution_count": 171,
     "metadata": {},
     "output_type": "execute_result"
    }
   ],
   "source": [
    "img_class = classify_sorted_number(sorted_mean)\n",
    "img_class"
   ]
  },
  {
   "cell_type": "code",
   "execution_count": 327,
   "metadata": {},
   "outputs": [],
   "source": [
    "def locate_coord(img_class,prob,sorted_coord,sorted_result):\n",
    "    pass\n",
    "    img_with_coord = []\n",
    "    offset = 0\n",
    "    class_num = len(img_class)\n",
    "    for i in range(0,class_num):\n",
    "        x = len(img_class[i])\n",
    "        t = np.argmax(sorted_result[offset:offset+x,:],axis=1)\n",
    "        c = sorted_coord[offset:offset+x,:]\n",
    "        r = sorted_result[offset:offset+x,:]\n",
    "        p = prob[offset:offset+x,:]\n",
    "        \n",
    "        more_num = np.argmax(np.bincount(t))\n",
    "        indice = np.where(t==more_num)\n",
    "        rr = r[indice]\n",
    "        cc = c[indice]    \n",
    "        pp = p[indice]\n",
    "        \n",
    "        num = np.argmax(rr)\n",
    "        \n",
    "        quotient = num // 10\n",
    "        residue = num % 10\n",
    "#         print(cc[quotient]  + 13 )\n",
    "#         print(more_num)\n",
    "        offset += x\n",
    "        \n",
    "        img_with_coord.append([more_num,(cc[quotient]  + 13)[0],(cc[quotient]  + 13)[1]])\n",
    "    \n",
    "    return img_with_coord"
   ]
  },
  {
   "cell_type": "code",
   "execution_count": 330,
   "metadata": {},
   "outputs": [
    {
     "name": "stdout",
     "output_type": "stream",
     "text": [
      "[127 339]\n",
      "1\n",
      "[ 73 127]\n",
      "1\n",
      "[209 273]\n",
      "1\n",
      "[493 139]\n",
      "7\n",
      "[205  91]\n",
      "1\n",
      "[161 369]\n",
      "1\n",
      "[349 127]\n",
      "8\n",
      "[493 371]\n",
      "5\n",
      "[ 95 247]\n",
      "8\n",
      "[597 333]\n",
      "6\n",
      "[463 251]\n",
      "9\n",
      "[499 279]\n",
      "0\n",
      "[433  39]\n",
      "4\n",
      "[271  13]\n",
      "6\n",
      "[263 325]\n",
      "3\n",
      "[169  73]\n",
      "0\n",
      "[491 199]\n",
      "4\n",
      "[ 91 289]\n",
      "8\n",
      "[ 13 159]\n",
      "6\n",
      "[397  83]\n",
      "7\n",
      "[453 109]\n",
      "3\n",
      "[325 321]\n",
      "0\n",
      "[ 51 221]\n",
      "0\n",
      "[187 415]\n",
      "2\n",
      "[153 329]\n",
      "8\n",
      "[235 111]\n",
      "6\n",
      "[113 201]\n",
      "6\n",
      "[319 405]\n",
      "2\n",
      "[533 363]\n",
      "2\n",
      "[267  53]\n",
      "0\n"
     ]
    }
   ],
   "source": [
    "img_with_coord = locate_coord(img_class,prob,sorted_coord,sorted_result)"
   ]
  },
  {
   "cell_type": "code",
   "execution_count": 331,
   "metadata": {},
   "outputs": [
    {
     "data": {
      "text/plain": [
       "array([4, 1, 1, 1, 1, 1, 0, 1, 7])"
      ]
     },
     "execution_count": 331,
     "metadata": {},
     "output_type": "execute_result"
    }
   ],
   "source": [
    "np.argmax(sorted_result[0:9,:],axis=1)"
   ]
  },
  {
   "cell_type": "code",
   "execution_count": null,
   "metadata": {},
   "outputs": [],
   "source": []
  },
  {
   "cell_type": "code",
   "execution_count": null,
   "metadata": {},
   "outputs": [],
   "source": []
  }
 ],
 "metadata": {
  "kernelspec": {
   "display_name": "Python 3",
   "language": "python",
   "name": "python3"
  },
  "language_info": {
   "codemirror_mode": {
    "name": "ipython",
    "version": 3
   },
   "file_extension": ".py",
   "mimetype": "text/x-python",
   "name": "python",
   "nbconvert_exporter": "python",
   "pygments_lexer": "ipython3",
   "version": "3.7.3"
  }
 },
 "nbformat": 4,
 "nbformat_minor": 2
}
